{
 "cells": [
  {
   "cell_type": "code",
   "execution_count": 3,
   "id": "6229552e-c022-4c75-b436-2fbc3c570feb",
   "metadata": {},
   "outputs": [],
   "source": [
    "import requests\n",
    "import csv\n",
    "from bs4 import BeautifulSoup"
   ]
  },
  {
   "cell_type": "code",
   "execution_count": 4,
   "id": "12cebb09-25fb-44f6-bd67-f51b3de316ab",
   "metadata": {},
   "outputs": [],
   "source": [
    "url_base = \"https://www.euromillones.com.es/historico/resultados-euromillones-{}.html\""
   ]
  },
  {
   "cell_type": "code",
   "execution_count": 10,
   "id": "66a5798d-a744-401a-be56-3487928a2c5f",
   "metadata": {},
   "outputs": [],
   "source": [
    "def url_ano(url_base, ano):\n",
    "    # Entrar com a url base que necessita apenas alterar o ano\n",
    "    return url_base.format(ano)"
   ]
  },
  {
   "cell_type": "code",
   "execution_count": 41,
   "id": "026f6187-190e-4b95-9d48-1ea42620dc81",
   "metadata": {},
   "outputs": [],
   "source": [
    "def status_site(url_base, ano):\n",
    "    # Retorna o status em caso de erro\n",
    "    url = url_ano(url_base, ano)\n",
    "    response = requests.get(url)\n",
    "    status = response.status_code\n",
    "    \n",
    "    if status != 200:\n",
    "        print(f\"Erro ao baixar {ano}: {status}\")\n",
    "        return url, response\n",
    "    else:\n",
    "        return url, response"
   ]
  },
  {
   "cell_type": "code",
   "execution_count": 42,
   "id": "eb1168c0-ebe0-4b27-b966-7c45567a8dea",
   "metadata": {},
   "outputs": [],
   "source": [
    "def status_tabela(url_base, ano):\n",
    "    \n",
    "    url, response = status_site(url_base, ano)\n",
    "    soup = BeautifulSoup(response.text, 'html.parser')\n",
    "    tabela = soup.find('table', class_='histoeuro')\n",
    "    \n",
    "    if not tabela:\n",
    "        print(f\"Tabela não encontrada para o ano {ano}\")\n",
    "    else:\n",
    "        return tabela.find_all('tr')[2:] # Ignora os cabeçalhos\n"
   ]
  },
  {
   "cell_type": "code",
   "execution_count": 79,
   "id": "8e6f5b24-fc5c-4317-b7fd-7d407181dfb6",
   "metadata": {},
   "outputs": [],
   "source": [
    "def sorteio_padrao(linhas, i):\n",
    "    \n",
    "    \"\"\"Remove a primeira coluna <td class='nmt' rowspan='2'> se presente.\"\"\"\n",
    "    \n",
    "    tds = linhas[i].find_all(\"td\")\n",
    "    \n",
    "    if \"nmt\" in tds[0].get(\"class\", []):\n",
    "        tds.pop(0)  # Remove a primeira célula se for um identificador de semana\n",
    "    return tds"
   ]
  },
  {
   "cell_type": "code",
   "execution_count": 91,
   "id": "851b77ba-85ff-4908-a736-c3ed5cdc9355",
   "metadata": {},
   "outputs": [],
   "source": [
    "def limpar_linhas(concurso, data, numeros, estrelas):\n",
    "    \n",
    "    \"\"\"Remove linhas que contenham valores vazios.\"\"\"\n",
    "    \n",
    "    if not concurso or not data or any(not num for num in numeros + estrelas):\n",
    "        return None\n",
    "    return [concurso, data] + numeros + estrelas"
   ]
  },
  {
   "cell_type": "code",
   "execution_count": 108,
   "id": "5e4c08a7-d387-4fc7-9a24-7fcf97c96527",
   "metadata": {},
   "outputs": [],
   "source": [
    "def sorteios_anuais(url_base, ano):\n",
    "    \n",
    "    linhas = status_tabela(url_base, ano)\n",
    "    dados = []\n",
    "\n",
    "    for i in range(0, len(linhas)):\n",
    "        try:\n",
    "            sorteio = sorteio_padrao(linhas, i)\n",
    "            concurso = sorteio[0].text.strip()\n",
    "            data = sorteio[1].text.strip()\n",
    "            numeros = [sorteio[j].text.strip() for j in range(2, 7)]\n",
    "            estrelas = [sorteio[7].text.strip(), sorteio[8].text.strip()]\n",
    "\n",
    "            nova_linha = limpar_linhas(concurso, data, numeros, estrelas)\n",
    "\n",
    "            if nova_linha:\n",
    "                dados.append(nova_linha)\n",
    "\n",
    "        except Exception as e:\n",
    "            print(f\"Erro ao processar linha {e} no ano {ano}\")\n",
    "            continue\n",
    "    \n",
    "    return dados"
   ]
  },
  {
   "cell_type": "code",
   "execution_count": 109,
   "id": "434bca1d-a423-470b-a56e-fc087b314abf",
   "metadata": {},
   "outputs": [],
   "source": [
    "def salvar_csv(dados, ano):\n",
    "    nome_arquivo = f\"{ano}_eurom.csv\"\n",
    "    \n",
    "    with open(nome_arquivo, 'w', newline='', encoding='utf-8') as f:\n",
    "        writer = csv.writer(f)\n",
    "        writer.writerow([\"Concurso\", \"Data\", \"Num1\", \"Num2\", \"Num3\", \"Num4\", \"Num5\", \"Estrela1\", \"Estrela2\"])\n",
    "        writer.writerows(dados)\n",
    "    \n",
    "    print(f\"Salvo: {nome_arquivo}\")"
   ]
  },
  {
   "cell_type": "code",
   "execution_count": 110,
   "id": "c98cc258-ae59-465d-b3ac-3ffe25b38798",
   "metadata": {},
   "outputs": [
    {
     "name": "stdout",
     "output_type": "stream",
     "text": [
      "Salvo: 2004_eurom.csv\n",
      "Salvo: 2005_eurom.csv\n",
      "Salvo: 2006_eurom.csv\n",
      "Salvo: 2007_eurom.csv\n",
      "Salvo: 2008_eurom.csv\n",
      "Erro ao processar linha list index out of range no ano 2009\n",
      "Salvo: 2009_eurom.csv\n",
      "Erro ao processar linha list index out of range no ano 2010\n",
      "Erro ao processar linha list index out of range no ano 2010\n",
      "Salvo: 2010_eurom.csv\n",
      "Salvo: 2011_eurom.csv\n",
      "Salvo: 2012_eurom.csv\n",
      "Salvo: 2013_eurom.csv\n",
      "Salvo: 2014_eurom.csv\n",
      "Salvo: 2015_eurom.csv\n",
      "Salvo: 2016_eurom.csv\n",
      "Salvo: 2017_eurom.csv\n",
      "Erro ao processar linha list index out of range no ano 2018\n",
      "Erro ao processar linha list index out of range no ano 2018\n",
      "Salvo: 2018_eurom.csv\n",
      "Salvo: 2019_eurom.csv\n",
      "Salvo: 2020_eurom.csv\n",
      "Salvo: 2021_eurom.csv\n",
      "Salvo: 2022_eurom.csv\n",
      "Salvo: 2023_eurom.csv\n",
      "Salvo: 2024_eurom.csv\n",
      "Salvo: 2025_eurom.csv\n"
     ]
    }
   ],
   "source": [
    "for ano in range(2004, 2026):\n",
    "    dados = sorteios_anuais(url_base, ano)\n",
    "    salvar_csv(dados, ano)"
   ]
  },
  {
   "cell_type": "code",
   "execution_count": null,
   "id": "a3a0424b-6b44-4f8b-ad7f-356cd1b48e7d",
   "metadata": {},
   "outputs": [],
   "source": []
  }
 ],
 "metadata": {
  "kernelspec": {
   "display_name": "Python 3 (ipykernel)",
   "language": "python",
   "name": "python3"
  },
  "language_info": {
   "codemirror_mode": {
    "name": "ipython",
    "version": 3
   },
   "file_extension": ".py",
   "mimetype": "text/x-python",
   "name": "python",
   "nbconvert_exporter": "python",
   "pygments_lexer": "ipython3",
   "version": "3.12.9"
  }
 },
 "nbformat": 4,
 "nbformat_minor": 5
}
